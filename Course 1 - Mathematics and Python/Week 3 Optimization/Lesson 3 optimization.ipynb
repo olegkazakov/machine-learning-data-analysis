{
 "cells": [
  {
   "cell_type": "code",
   "execution_count": 1,
   "metadata": {},
   "outputs": [
    {
     "name": "stdout",
     "output_type": "stream",
     "text": [
      "0.676676416183\n"
     ]
    }
   ],
   "source": [
    "import math\n",
    "\n",
    "# base function\n",
    "\n",
    "def f(x):\n",
    "    return math.sin(x/5) * math.exp(x/10) + 5 * math.exp(-x/2)\n",
    "print (f(4))"
   ]
  },
  {
   "cell_type": "markdown",
   "metadata": {},
   "source": [
    "## Задача 1. Минимизация гладкой функции"
   ]
  },
  {
   "cell_type": "code",
   "execution_count": 3,
   "metadata": {
    "collapsed": true
   },
   "outputs": [],
   "source": [
    "from scipy.optimize import minimize"
   ]
  },
  {
   "cell_type": "code",
   "execution_count": 54,
   "metadata": {},
   "outputs": [
    {
     "name": "stdout",
     "output_type": "stream",
     "text": [
      "      fun: 1.7452682903447336\n",
      " hess_inv: array([[ 5.98752645]])\n",
      "      jac: array([ -2.04145908e-06])\n",
      "  message: 'Optimization terminated successfully.'\n",
      "     nfev: 21\n",
      "      nit: 6\n",
      "     njev: 7\n",
      "   status: 0\n",
      "  success: True\n",
      "        x: array([ 4.13627628])\n"
     ]
    }
   ],
   "source": [
    "#x0 = [1., 4., 8., 10., 13., 15., 17., 20., 22., 24., 26., 28., 30.]\n",
    "x0 = [2.]\n",
    "res0 = minimize(f, x0, method = 'BFGS')\n",
    "print res0"
   ]
  },
  {
   "cell_type": "code",
   "execution_count": 55,
   "metadata": {},
   "outputs": [
    {
     "name": "stdout",
     "output_type": "stream",
     "text": [
      "      fun: -11.898894665981265\n",
      " hess_inv: array([[ 1.67840334]])\n",
      "      jac: array([  1.19209290e-07])\n",
      "  message: 'Optimization terminated successfully.'\n",
      "     nfev: 18\n",
      "      nit: 5\n",
      "     njev: 6\n",
      "   status: 0\n",
      "  success: True\n",
      "        x: array([ 25.88019347])\n"
     ]
    }
   ],
   "source": [
    "x1 = [30.]\n",
    "res1 = minimize(f, x1, method = 'BFGS')\n",
    "print res1"
   ]
  },
  {
   "cell_type": "code",
   "execution_count": 57,
   "metadata": {},
   "outputs": [],
   "source": [
    "# write to file\n",
    "file_obj = open('l3-submission1.txt', 'w')\n",
    "string = str(round(res0.fun, 2)) + ' ' + str(round(res1.fun, 2))\n",
    "file_obj.write(string)\n",
    "file_obj.close()"
   ]
  },
  {
   "cell_type": "markdown",
   "metadata": {},
   "source": [
    "## Задача 2: глобальная оптимизация"
   ]
  },
  {
   "cell_type": "code",
   "execution_count": 22,
   "metadata": {
    "collapsed": true
   },
   "outputs": [],
   "source": [
    "from scipy.optimize import differential_evolution"
   ]
  },
  {
   "cell_type": "code",
   "execution_count": 58,
   "metadata": {},
   "outputs": [
    {
     "name": "stdout",
     "output_type": "stream",
     "text": [
      "     fun: -11.898894665981304\n",
      "     jac: array([ 0.])\n",
      " message: 'Optimization terminated successfully.'\n",
      "    nfev: 111\n",
      "     nit: 6\n",
      " success: True\n",
      "       x: array([ 25.88019278])\n"
     ]
    }
   ],
   "source": [
    "x2 = (1., 30.)\n",
    "res2 = differential_evolution(f, [x2])\n",
    "print res2"
   ]
  },
  {
   "cell_type": "code",
   "execution_count": 59,
   "metadata": {
    "collapsed": true
   },
   "outputs": [],
   "source": [
    "# write to file\n",
    "file_obj = open('l3-submission2.txt', 'w')\n",
    "string = str(round(res2.fun, 2))\n",
    "file_obj.write(string)\n",
    "file_obj.close()"
   ]
  },
  {
   "cell_type": "markdown",
   "metadata": {},
   "source": [
    "## Задача 3. Минимизация негладкой функции"
   ]
  },
  {
   "cell_type": "code",
   "execution_count": 51,
   "metadata": {
    "collapsed": true
   },
   "outputs": [],
   "source": [
    "import numpy as np\n",
    "\n",
    "def f1(x):\n",
    "    return np.sin(x/5) * np.exp(x/10) + 5 * np.exp(-x/2)\n",
    "\n",
    "def h(x):\n",
    "    return (f1(x).astype(int))"
   ]
  },
  {
   "cell_type": "code",
   "execution_count": 74,
   "metadata": {},
   "outputs": [
    {
     "data": {
      "image/png": "[encoded data removed]",
      "text/plain": [
       "<matplotlib.figure.Figure at 0x9b6e8d0>"
      ]
     },
     "metadata": {},
     "output_type": "display_data"
    }
   ],
   "source": [
    "import matplotlib as mpl\n",
    "import matplotlib.pyplot as plt\n",
    "% matplotlib inline\n",
    "mpl.rc('font', family='Verdana', size =16)\n",
    "fig, ax = plt.subplots(figsize=(10,5))\n",
    "x = np.linspace(1, 30, 2000)\n",
    "\n",
    "ax.axis([1., 30., -12., 3.5])\n",
    "ax.grid()\n",
    "ax.plot(x, f1(x), label = u'Исходная функция')\n",
    "plt.plot(x, h(x), label = u'Негладкая функция')\n",
    "ax.set_xlabel(u'x',{'fontname':'Arial', 'size': 24})\n",
    "ax.set_ylabel(u'f1(x)',{'fontname':'Arial', 'size': 24})\n",
    "\n",
    "ax.legend(bbox_to_anchor=(1.7, 1.))\n",
    "\n",
    "plt.show()"
   ]
  },
  {
   "cell_type": "code",
   "execution_count": 68,
   "metadata": {},
   "outputs": [
    {
     "name": "stdout",
     "output_type": "stream",
     "text": [
      "[-5]\n"
     ]
    }
   ],
   "source": [
    "x31 = [30.]\n",
    "res31 = minimize(h, x31, method = 'BFGS')\n",
    "print res31.fun"
   ]
  },
  {
   "cell_type": "code",
   "execution_count": 64,
   "metadata": {},
   "outputs": [
    {
     "name": "stdout",
     "output_type": "stream",
     "text": [
      "     fun: -11.0\n",
      " message: 'Optimization terminated successfully.'\n",
      "    nfev: 92\n",
      "     nit: 5\n",
      " success: True\n",
      "       x: array([ 24.31870382])\n"
     ]
    }
   ],
   "source": [
    "x32 = (1., 30.)\n",
    "res32 = differential_evolution(h, [x32])\n",
    "print res32"
   ]
  },
  {
   "cell_type": "code",
   "execution_count": 71,
   "metadata": {
    "collapsed": true
   },
   "outputs": [],
   "source": [
    "file_obj = open('l3-submission3.txt', 'w')\n",
    "string = str(round(res31.fun, 2)) + ' ' + str(round(res32.fun, 2))\n",
    "file_obj.write(string)\n",
    "file_obj.close()"
   ]
  }
 ],
 "metadata": {
  "anaconda-cloud": {},
  "kernelspec": {
   "display_name": "Python 3",
   "language": "python",
   "name": "python3"
  },
  "language_info": {
   "codemirror_mode": {
    "name": "ipython",
    "version": 3
   },
   "file_extension": ".py",
   "mimetype": "text/x-python",
   "name": "python",
   "nbconvert_exporter": "python",
   "pygments_lexer": "ipython3",
   "version": "3.6.4"
  }
 },
 "nbformat": 4,
 "nbformat_minor": 1
}
