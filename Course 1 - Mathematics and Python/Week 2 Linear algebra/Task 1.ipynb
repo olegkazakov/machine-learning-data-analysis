{
 "cells": [
  {
   "cell_type": "code",
   "execution_count": 1,
   "metadata": {},
   "outputs": [],
   "source": [
    "# reading list of strings form the file \n",
    "file_obj = open('sentences.txt', 'r')\n",
    "data_list = file_obj.readlines()\n",
    "file_obj.close()\n",
    "clear_data = list()\n",
    "for line in data_list: \n",
    "    line = line.lower().strip()\n",
    "    clear_data.append(line)"
   ]
  },
  {
   "cell_type": "code",
   "execution_count": 2,
   "metadata": {},
   "outputs": [],
   "source": [
    "#tokenize words\n",
    "import re\n",
    "words_in_sentences = list()\n",
    "for line in clear_data: \n",
    "    words = re.split('[^a-z]', line)\n",
    "    i = len(words) - 1\n",
    "    while i >= 0:\n",
    "        if words[i] == '':\n",
    "            del words[i]\n",
    "        i -= 1\n",
    "    words_in_sentences.append(words)"
   ]
  },
  {
   "cell_type": "code",
   "execution_count": 3,
   "metadata": {},
   "outputs": [],
   "source": [
    "# create words dict\n",
    "word_dict = dict()\n",
    "i = 0\n",
    "for line in words_in_sentences:\n",
    "    for word in line:\n",
    "        if word not in word_dict.values():\n",
    "            word_dict[i] = word\n",
    "            i += 1\n",
    "d = len(word_dict)\n",
    "n = len(clear_data)"
   ]
  },
  {
   "cell_type": "code",
   "execution_count": 4,
   "metadata": {},
   "outputs": [],
   "source": [
    "# create matrix counting words in sentenses\n",
    "import numpy as np\n",
    "\n",
    "c = np.zeros((n, d))\n",
    "for i in range(len(words_in_sentences)):\n",
    "    for j in range(len(word_dict)):\n",
    "        count = words_in_sentences[i].count(word_dict[j])\n",
    "        c[i, j] = count"
   ]
  },
  {
   "cell_type": "code",
   "execution_count": 5,
   "metadata": {},
   "outputs": [
    {
     "name": "stdout",
     "output_type": "stream",
     "text": [
      "{0: 0.0, 1: 0.95275444087384664, 2: 0.86447381456421235, 3: 0.89517151632780823, 4: 0.77708871496985887, 5: 0.94023856953328033, 6: 0.7327387580875756, 7: 0.92587506833388988, 8: 0.88427248752843102, 9: 0.90550888174769317, 10: 0.83281653622739416, 11: 0.88047713906656067, 12: 0.83964325485254543, 13: 0.87035925528956715, 14: 0.87401184233025764, 15: 0.94427217874246472, 16: 0.84063618542208085, 17: 0.95664450152379399, 18: 0.94427217874246472, 19: 0.88854435748492944, 20: 0.84275727449171223, 21: 0.82503644694405864}\n"
     ]
    }
   ],
   "source": [
    "# find cosinus distance\n",
    "from scipy import spatial\n",
    "\n",
    "i = 0\n",
    "distances = dict()\n",
    "for i in range(len(c)):\n",
    "    cos_dist = spatial.distance.cosine(c[0], c[i])\n",
    "    distances[i] = cos_dist\n",
    "print distances"
   ]
  },
  {
   "cell_type": "code",
   "execution_count": 6,
   "metadata": {},
   "outputs": [
    {
     "name": "stdout",
     "output_type": "stream",
     "text": [
      "[(0, 0.0), (6, 0.7327387580875756), (4, 0.77708871496985887), (21, 0.82503644694405864), (10, 0.83281653622739416), (12, 0.83964325485254543), (16, 0.84063618542208085), (20, 0.84275727449171223), (2, 0.86447381456421235), (13, 0.87035925528956715), (14, 0.87401184233025764), (11, 0.88047713906656067), (8, 0.88427248752843102), (19, 0.88854435748492944), (3, 0.89517151632780823), (9, 0.90550888174769317), (7, 0.92587506833388988), (5, 0.94023856953328033), (15, 0.94427217874246472), (18, 0.94427217874246472), (1, 0.95275444087384664), (17, 0.95664450152379399)]\n"
     ]
    }
   ],
   "source": [
    "# find 2 closest sentences\n",
    "import operator\n",
    "distances_x = sorted(distances.items(), key=operator.itemgetter(1))\n",
    "print distances_x"
   ]
  },
  {
   "cell_type": "code",
   "execution_count": 7,
   "metadata": {},
   "outputs": [
    {
     "name": "stdout",
     "output_type": "stream",
     "text": [
      "\n"
     ]
    }
   ],
   "source": [
    "# write to file\n",
    "file_obj = open('submission-1.txt', 'w')\n",
    "string = str(distances_x[1][0]) + ' ' + str(distances_x[2][0])\n",
    "file_obj.write(string)\n",
    "file_obj.close()"
   ]
  }
 ],
 "metadata": {
  "anaconda-cloud": {},
  "kernelspec": {
   "display_name": "Python 3",
   "language": "python",
   "name": "python3"
  },
  "language_info": {
   "codemirror_mode": {
    "name": "ipython",
    "version": 3
   },
   "file_extension": ".py",
   "mimetype": "text/x-python",
   "name": "python",
   "nbconvert_exporter": "python",
   "pygments_lexer": "ipython3",
   "version": "3.6.4"
  }
 },
 "nbformat": 4,
 "nbformat_minor": 1
}
